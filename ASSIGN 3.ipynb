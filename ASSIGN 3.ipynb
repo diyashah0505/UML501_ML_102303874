{
  "metadata": {
    "kernelspec": {
      "name": "python",
      "display_name": "Python (Pyodide)",
      "language": "python"
    },
    "language_info": {
      "codemirror_mode": {
        "name": "python",
        "version": 3
      },
      "file_extension": ".py",
      "mimetype": "text/x-python",
      "name": "python",
      "nbconvert_exporter": "python",
      "pygments_lexer": "ipython3",
      "version": "3.8"
    }
  },
  "nbformat_minor": 5,
  "nbformat": 4,
  "cells": [
    {
      "id": "c590dc88-9ad3-4cbd-afd4-9190acfb6b01",
      "cell_type": "code",
      "source": "import pandas as pd\ndf = pd.read_csv(\"USA_Housing.csv\")",
      "metadata": {
        "trusted": true
      },
      "outputs": [],
      "execution_count": 4
    },
    {
      "id": "c706b7a6-a0d9-428d-8fd2-3bd334fb8f3c",
      "cell_type": "code",
      "source": "X = df.drop('Price', axis=1) \nY = df['Price']  \nprint(\"Input Features (X):\")\ndisplay(X.head())\nprint(\"\\nOutput Variable (y):\")\ndisplay(Y.head())",
      "metadata": {
        "trusted": true
      },
      "outputs": [
        {
          "name": "stdout",
          "output_type": "stream",
          "text": "Input Features (X):\n"
        },
        {
          "output_type": "display_data",
          "data": {
            "text/plain": "   Avg. Area Income  Avg. Area House Age  Avg. Area Number of Rooms  \\\n0       79545.45857             5.682861                   7.009188   \n1       79248.64245             6.002900                   6.730821   \n2       61287.06718             5.865890                   8.512727   \n3       63345.24005             7.188236                   5.586729   \n4       59982.19723             5.040555                   7.839388   \n\n   Avg. Area Number of Bedrooms  Area Population  \n0                          4.09      23086.80050  \n1                          3.09      40173.07217  \n2                          5.13      36882.15940  \n3                          3.26      34310.24283  \n4                          4.23      26354.10947  ",
            "text/html": "<div>\n<style scoped>\n    .dataframe tbody tr th:only-of-type {\n        vertical-align: middle;\n    }\n\n    .dataframe tbody tr th {\n        vertical-align: top;\n    }\n\n    .dataframe thead th {\n        text-align: right;\n    }\n</style>\n<table border=\"1\" class=\"dataframe\">\n  <thead>\n    <tr style=\"text-align: right;\">\n      <th></th>\n      <th>Avg. Area Income</th>\n      <th>Avg. Area House Age</th>\n      <th>Avg. Area Number of Rooms</th>\n      <th>Avg. Area Number of Bedrooms</th>\n      <th>Area Population</th>\n    </tr>\n  </thead>\n  <tbody>\n    <tr>\n      <th>0</th>\n      <td>79545.45857</td>\n      <td>5.682861</td>\n      <td>7.009188</td>\n      <td>4.09</td>\n      <td>23086.80050</td>\n    </tr>\n    <tr>\n      <th>1</th>\n      <td>79248.64245</td>\n      <td>6.002900</td>\n      <td>6.730821</td>\n      <td>3.09</td>\n      <td>40173.07217</td>\n    </tr>\n    <tr>\n      <th>2</th>\n      <td>61287.06718</td>\n      <td>5.865890</td>\n      <td>8.512727</td>\n      <td>5.13</td>\n      <td>36882.15940</td>\n    </tr>\n    <tr>\n      <th>3</th>\n      <td>63345.24005</td>\n      <td>7.188236</td>\n      <td>5.586729</td>\n      <td>3.26</td>\n      <td>34310.24283</td>\n    </tr>\n    <tr>\n      <th>4</th>\n      <td>59982.19723</td>\n      <td>5.040555</td>\n      <td>7.839388</td>\n      <td>4.23</td>\n      <td>26354.10947</td>\n    </tr>\n  </tbody>\n</table>\n</div>"
          },
          "metadata": {}
        },
        {
          "name": "stdout",
          "output_type": "stream",
          "text": "\nOutput Variable (y):\n"
        },
        {
          "output_type": "display_data",
          "data": {
            "text/plain": "0    1.059034e+06\n1    1.505891e+06\n2    1.058988e+06\n3    1.260617e+06\n4    6.309435e+05\nName: Price, dtype: float64"
          },
          "metadata": {}
        }
      ],
      "execution_count": 5
    },
    {
      "id": "5cf41d2d-e0dc-4318-8a0c-0275a65dfa8f",
      "cell_type": "code",
      "source": "from sklearn.preprocessing import StandardScaler\nscaler = StandardScaler()\nX_scaled = scaler.fit_transform(X)\ndisplay(pd.DataFrame(X_scaled, columns=X.columns).head())",
      "metadata": {
        "trusted": true
      },
      "outputs": [
        {
          "output_type": "display_data",
          "data": {
            "text/plain": "   Avg. Area Income  Avg. Area House Age  Avg. Area Number of Rooms  \\\n0          1.028660            -0.296927                   0.021274   \n1          1.000808             0.025902                  -0.255506   \n2         -0.684629            -0.112303                   1.516243   \n3         -0.491499             1.221572                  -1.393077   \n4         -0.807073            -0.944834                   0.846742   \n\n   Avg. Area Number of Bedrooms  Area Population  \n0                      0.088062        -1.317599  \n1                     -0.722301         0.403999  \n2                      0.930840         0.072410  \n3                     -0.584540        -0.186734  \n4                      0.201513        -0.988387  ",
            "text/html": "<div>\n<style scoped>\n    .dataframe tbody tr th:only-of-type {\n        vertical-align: middle;\n    }\n\n    .dataframe tbody tr th {\n        vertical-align: top;\n    }\n\n    .dataframe thead th {\n        text-align: right;\n    }\n</style>\n<table border=\"1\" class=\"dataframe\">\n  <thead>\n    <tr style=\"text-align: right;\">\n      <th></th>\n      <th>Avg. Area Income</th>\n      <th>Avg. Area House Age</th>\n      <th>Avg. Area Number of Rooms</th>\n      <th>Avg. Area Number of Bedrooms</th>\n      <th>Area Population</th>\n    </tr>\n  </thead>\n  <tbody>\n    <tr>\n      <th>0</th>\n      <td>1.028660</td>\n      <td>-0.296927</td>\n      <td>0.021274</td>\n      <td>0.088062</td>\n      <td>-1.317599</td>\n    </tr>\n    <tr>\n      <th>1</th>\n      <td>1.000808</td>\n      <td>0.025902</td>\n      <td>-0.255506</td>\n      <td>-0.722301</td>\n      <td>0.403999</td>\n    </tr>\n    <tr>\n      <th>2</th>\n      <td>-0.684629</td>\n      <td>-0.112303</td>\n      <td>1.516243</td>\n      <td>0.930840</td>\n      <td>0.072410</td>\n    </tr>\n    <tr>\n      <th>3</th>\n      <td>-0.491499</td>\n      <td>1.221572</td>\n      <td>-1.393077</td>\n      <td>-0.584540</td>\n      <td>-0.186734</td>\n    </tr>\n    <tr>\n      <th>4</th>\n      <td>-0.807073</td>\n      <td>-0.944834</td>\n      <td>0.846742</td>\n      <td>0.201513</td>\n      <td>-0.988387</td>\n    </tr>\n  </tbody>\n</table>\n</div>"
          },
          "metadata": {}
        }
      ],
      "execution_count": 6
    },
    {
      "id": "f4b56d8f-485c-41a4-8890-ce1f79ed8cbd",
      "cell_type": "code",
      "source": "from sklearn.model_selection import KFold\nkf = KFold(n_splits=5, shuffle=True, random_state=42)\nX_folds = [] \nY_folds = []\nfor train_index, test_index in kf.split(X_scaled):\n    X_train, X_test = X_scaled[train_index], X_scaled[test_index]\n    Y_train, Y_test = Y[train_index], Y[test_index]\n    X_folds.append({'train': X_train, 'test': X_test})\n    Y_folds.append({'train': Y_train, 'test': Y_test})\nprint(\"Shape of X_train:\", X_folds[0]['train'].shape)\nprint(\"Shape of X_test:\", X_folds[0]['test'].shape)\nprint(\"Shape of y_train:\", Y_folds[0]['train'].shape)\nprint(\"Shape of y_test:\", Y_folds[0]['test'].shape)\n     ",
      "metadata": {
        "trusted": true
      },
      "outputs": [
        {
          "name": "stdout",
          "output_type": "stream",
          "text": "Shape of X_train: (4000, 5)\nShape of X_test: (1000, 5)\nShape of y_train: (4000,)\nShape of y_test: (1000,)\n"
        }
      ],
      "execution_count": 8
    },
    {
      "id": "f048e779-627a-415d-8370-1325390ddd58",
      "cell_type": "code",
      "source": "import numpy as np\nfrom sklearn.metrics import r2_score\nbeta_matrices = [] \npredicted_values = []\nr2_scores = []\n\nfor i in range(5):\n    X_train = X_folds[i]['train']\n    X_test = X_folds[i]['test']\n    Y_train = Y_folds[i]['train']\n    Y_test = Y_folds[i]['test']\n    X_train_intercept = np.insert(X_train, 0, 1, axis=1)\n\n    beta = np.linalg.pinv(X_train_intercept.T @ X_train_intercept) @ X_train_intercept.T @ Y_train\n    beta_matrices.append(beta)\n    X_test_intercept = np.insert(X_test, 0, 1, axis=1)\n    Y_pred = X_test_intercept @ beta\n    predicted_values.append(Y_pred)\n\n    r2 = r2_score(Y_test, Y_pred)\n    r2_scores.append(r2)\n\n    print(f\"Iteration {i+1}:\")\n    print(\"Beta Matrix :\", beta)\n    print(\"R2 Score:\", r2)\n    print(\"-\" * 30)",
      "metadata": {
        "trusted": true
      },
      "outputs": [
        {
          "name": "stdout",
          "output_type": "stream",
          "text": "Iteration 1:\nBeta Matrix : [1232002.6748241   230745.94073479  163243.27314515  120309.77397759\n    3011.45976111  151552.63069359]\nR2 Score: 0.9179971706985148\n------------------------------\nIteration 2:\nBeta Matrix : [1232037.85755946  229081.97914235  165882.1605634   121536.57475055\n    2092.4478622   150874.99274586]\nR2 Score: 0.9145677884802816\n------------------------------\nIteration 3:\nBeta Matrix : [1231951.92563846  230224.50511001  162766.17455493  121022.77324578\n    1247.16258975  150234.77720419]\nR2 Score: 0.9116116385364479\n------------------------------\nIteration 4:\nBeta Matrix : [1232751.46486511  229500.10043209  165212.07110924  122839.9376815\n    3063.71699324  150917.88484984]\nR2 Score: 0.9193091764960816\n------------------------------\nIteration 5:\nBeta Matrix : [1.23161736e+06 2.30225051e+05 1.63956839e+05 1.21115120e+05\n 7.83467170e+02 1.50662447e+05]\nR2 Score: 0.9243869413350316\n------------------------------\n"
        }
      ],
      "execution_count": 10
    },
    {
      "id": "88dec3a8-6af2-4936-813a-1bd47d022087",
      "cell_type": "code",
      "source": "from sklearn.model_selection import train_test_split\nbest_r2_index = np.argmax(r2_scores)\nbest_beta = beta_matrices[best_r2_index]\n\nprint(f\"The best R2 score is {r2_scores[best_r2_index]:.4f} from Iteration {best_r2_index + 1}.\")\nprint(\"The corresponding Beta Matrix is:\", best_beta)\n\nX_train_70, X_test_30, Y_train_70, Y_test_30 = train_test_split(X_scaled, Y, test_size=0.3, random_state=42)\n\nX_test_30_intercept = np.insert(X_test_30, 0, 1, axis=1)\nY_pred_30 = X_test_30_intercept @ best_beta\n\nprint(\"\\nShape of 70% training set \", X_train_70.shape)\nprint(\"Shape of 30% testing set \", X_test_30.shape)\nprint(\"Shape of predicted values for 30% test set \", Y_pred_30.shape)\n     ",
      "metadata": {
        "trusted": true
      },
      "outputs": [
        {
          "name": "stdout",
          "output_type": "stream",
          "text": "The best R2 score is 0.9244 from Iteration 5.\nThe corresponding Beta Matrix is: [1.23161736e+06 2.30225051e+05 1.63956839e+05 1.21115120e+05\n 7.83467170e+02 1.50662447e+05]\n\nShape of 70% training set  (3500, 5)\nShape of 30% testing set  (1500, 5)\nShape of predicted values for 30% test set  (1500,)\n"
        }
      ],
      "execution_count": 13
    },
    {
      "id": "9deee3cc-fdf4-43e7-a216-38fb5be3f079",
      "cell_type": "code",
      "source": "X = np.c_[np.ones((X.shape[0], 1)), X]\nX_train, X_temp, Y_train, Y_temp = train_test_split(X, Y, train_size=0.56, random_state=42)\nval_size = 14 / (14 + 30)\nX_val, X_test, Y_val, Y_test = train_test_split(X_temp, Y_temp, train_size=val_size, random_state=42)\nprint(\"Shapes:\", X_train.shape, X_val.shape, X_test.shape)\n     ",
      "metadata": {
        "trusted": true
      },
      "outputs": [
        {
          "name": "stdout",
          "output_type": "stream",
          "text": "Shapes: (2800, 6) (700, 6) (1500, 6)\n"
        }
      ],
      "execution_count": 14
    },
    {
      "id": "7733ee88-1afc-4828-a259-e3b9bfe3edce",
      "cell_type": "code",
      "source": "def gradient_descent(X,Y,lr,n=1000):\n  m,n = X.shape\n  beta = np.zeros((n,1))\n  for i in range(n):\n    gradients = 2 / m * X.T @ (X @ beta - Y)\n    beta = beta - lr * gradients\n  return beta",
      "metadata": {
        "trusted": true
      },
      "outputs": [],
      "execution_count": 15
    },
    {
      "id": "9806baca-6388-47cc-9146-e36e853c60ef",
      "cell_type": "code",
      "source": "",
      "metadata": {
        "trusted": true
      },
      "outputs": [],
      "execution_count": null
    },
    {
      "id": "6e0cea02-7045-434f-8cfc-44ef944a2dfe",
      "cell_type": "code",
      "source": "",
      "metadata": {
        "trusted": true
      },
      "outputs": [],
      "execution_count": null
    }
  ]
}