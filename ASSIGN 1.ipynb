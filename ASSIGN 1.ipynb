{
  "metadata": {
    "kernelspec": {
      "name": "python",
      "display_name": "Python (Pyodide)",
      "language": "python"
    },
    "language_info": {
      "codemirror_mode": {
        "name": "python",
        "version": 3
      },
      "file_extension": ".py",
      "mimetype": "text/x-python",
      "name": "python",
      "nbconvert_exporter": "python",
      "pygments_lexer": "ipython3",
      "version": "3.8"
    }
  },
  "nbformat_minor": 5,
  "nbformat": 4,
  "cells": [
    {
      "id": "0df0dad0-12e8-43b7-8f76-64d87c4b9f0f",
      "cell_type": "markdown",
      "source": "QUESTION 1",
      "metadata": {}
    },
    {
      "id": "ed830a75-355d-4c6b-9906-8809bc315442",
      "cell_type": "code",
      "source": "import numpy as np\na=np.array([1,2,3,4,5])\nreverse=a[::-1]\nprint(\"reversed_array:\",reverse)",
      "metadata": {
        "trusted": true
      },
      "outputs": [
        {
          "name": "stdout",
          "output_type": "stream",
          "text": "reversed_array: [5 4 3 2 1]\n"
        }
      ],
      "execution_count": 2
    },
    {
      "id": "ea03aee9-0b95-4e4a-966b-b348e48e6058",
      "cell_type": "code",
      "source": "array1=np.array([[1,2],[3,4]])\nprint(array1.flatten())",
      "metadata": {
        "trusted": true
      },
      "outputs": [
        {
          "name": "stdout",
          "output_type": "stream",
          "text": "[1 2 3 4]\n"
        }
      ],
      "execution_count": 4
    },
    {
      "id": "48f0ecef-bb61-4a82-a0ca-820ebf0da89a",
      "cell_type": "code",
      "source": "a1 = np.array([[1, 2], [3, 4]])\na2 = np.array([[1, 2], [3, 4]])\nprint(np.array_equal(a1, a2))",
      "metadata": {
        "trusted": true
      },
      "outputs": [
        {
          "name": "stdout",
          "output_type": "stream",
          "text": "True\n"
        }
      ],
      "execution_count": 5
    },
    {
      "id": "719c6bfb-8146-4c46-bfba-a45027a2c708",
      "cell_type": "code",
      "source": "x = np.array([1,2,3,4,5,1,2,1,1,1])\nval = np.bincount(x).argmax()\nprint(\"Most frequent:\", val, \"Indices:\", np.where(x == val))\ny = np.array([1,1,1,2,3,4,2,4,3,3,])\nval1 = np.bincount(x).argmax()\nprint(\"Most frequent:\", val1, \"Indices:\", np.where(y == val1))",
      "metadata": {
        "trusted": true
      },
      "outputs": [
        {
          "name": "stdout",
          "output_type": "stream",
          "text": "Most frequent: 1 Indices: (array([0, 5, 7, 8, 9]),)\nMost frequent: 1 Indices: (array([0, 1, 2]),)\n"
        }
      ],
      "execution_count": 6
    },
    {
      "id": "4d27fb27-b825-49ec-a79c-4bbeb40ccd50",
      "cell_type": "code",
      "source": "gfg=np.matrix([[4,1,9],[12,3,1],[4,5,6]])\nprint(gfg.sum())\nprint(gfg.sum(axis=1))\nprint(gfg.sum(axis=0))",
      "metadata": {
        "trusted": true
      },
      "outputs": [
        {
          "name": "stdout",
          "output_type": "stream",
          "text": "45\n[[14]\n [16]\n [15]]\n[[20  9 16]]\n"
        }
      ],
      "execution_count": 7
    },
    {
      "id": "222e868b-c55e-4d9d-a8de-e2c98e8db4d5",
      "cell_type": "code",
      "source": "X = np.array([[55,25,15],[30,44,2],[11,45,77]])\nprint(np.trace(X))\nprint(np.linalg.eig(X))\nprint(np.linalg.inv(X))\nprint(np.linalg.det(X))",
      "metadata": {
        "trusted": true
      },
      "outputs": [
        {
          "name": "stdout",
          "output_type": "stream",
          "text": "176\nEigResult(eigenvalues=array([28.097044  , 49.73460452, 98.16835147]), eigenvectors=array([[-0.34637121,  0.15017693,  0.4574917 ],\n       [ 0.72784061,  0.4852124 ,  0.28447814],\n       [-0.59184038, -0.8614034 ,  0.84248058]]))\n[[ 0.02404141 -0.00911212 -0.00444671]\n [-0.01667882  0.02966905  0.0024785 ]\n [ 0.00631287 -0.01603732  0.01217379]]\n137180.0000000001\n"
        }
      ],
      "execution_count": 8
    },
    {
      "id": "37c6f6f4-1082-4b25-a8d2-edfa14570d01",
      "cell_type": "code",
      "source": "p = np.array([[1, 2], [2, 3]])\nq = np.array([[4, 5], [6, 7]])\nprint(np.dot(p, q))\nprint(np.cov(p, q))",
      "metadata": {
        "trusted": true
      },
      "outputs": [
        {
          "name": "stdout",
          "output_type": "stream",
          "text": "[[16 19]\n [26 31]]\n[[0.5 0.5 0.5 0.5]\n [0.5 0.5 0.5 0.5]\n [0.5 0.5 0.5 0.5]\n [0.5 0.5 0.5 0.5]]\n"
        }
      ],
      "execution_count": 9
    },
    {
      "id": "f733c58a-4c96-470c-9774-52534d8b0b8f",
      "cell_type": "code",
      "source": "x = np.array([[2, 3, 4], [3, 2, 9]])\ny = np.array([[1, 5, 0], [5, 10, 3]])\nprint(np.inner(x, y))\nprint(np.outer(x, y))\nprint(np.array(np.meshgrid(x.flatten(), y.flatten())).T.reshape(-1, 2))",
      "metadata": {
        "trusted": true
      },
      "outputs": [
        {
          "name": "stdout",
          "output_type": "stream",
          "text": "[[17 52]\n [13 62]]\n[[ 2 10  0 10 20  6]\n [ 3 15  0 15 30  9]\n [ 4 20  0 20 40 12]\n [ 3 15  0 15 30  9]\n [ 2 10  0 10 20  6]\n [ 9 45  0 45 90 27]]\n[[ 2  1]\n [ 2  5]\n [ 2  0]\n [ 2  5]\n [ 2 10]\n [ 2  3]\n [ 3  1]\n [ 3  5]\n [ 3  0]\n [ 3  5]\n [ 3 10]\n [ 3  3]\n [ 4  1]\n [ 4  5]\n [ 4  0]\n [ 4  5]\n [ 4 10]\n [ 4  3]\n [ 3  1]\n [ 3  5]\n [ 3  0]\n [ 3  5]\n [ 3 10]\n [ 3  3]\n [ 2  1]\n [ 2  5]\n [ 2  0]\n [ 2  5]\n [ 2 10]\n [ 2  3]\n [ 9  1]\n [ 9  5]\n [ 9  0]\n [ 9  5]\n [ 9 10]\n [ 9  3]]\n"
        }
      ],
      "execution_count": 10
    },
    {
      "id": "3a40fe87-6306-489e-988c-d222ae8526dd",
      "cell_type": "markdown",
      "source": "QUESTION 2",
      "metadata": {}
    },
    {
      "id": "88a516d0-4fd5-4b77-a18e-c0932c79c571",
      "cell_type": "code",
      "source": "arr=np.array([[1,-2,3],[-4,5,-6]])\nprint(np.abs(arr))\nprint(np.percentile(arr,25,axis=0))\nprint(np.percentile(arr,50,axis=0))\nprint(np.percentile(arr,75,axis=0))\nprint(np.percentile(arr,25,axis=1))\nprint(np.percentile(arr,50,axis=1))\nprint(np.percentile(arr,75,axis=1))\nprint(np.mean(arr,axis=0))\nprint(np.median(arr,axis=0))\nprint(np.std(arr,axis=0))\nprint(np.mean(arr,axis=1))\nprint(np.median(arr,axis=1))\nprint(np.std(arr,axis=1))\n\na = np.array([-1.8, -1.6, -0.5, 0.5, 1.6, 1.8, 3.0])\nprint(\"Floor:\",np.floor(a))\nprint(\"Ceiling:\",np.ceil(a))\nprint(\"Truncated:\",np.trunc(a))\nprint(\"Round:\",np.round(a))",
      "metadata": {
        "trusted": true
      },
      "outputs": [
        {
          "name": "stdout",
          "output_type": "stream",
          "text": "[[1 2 3]\n [4 5 6]]\n[-2.75 -0.25 -3.75]\n[-1.5  1.5 -1.5]\n[-0.25  3.25  0.75]\n[-0.5 -5. ]\n[ 1. -4.]\n[2.  0.5]\n[-1.5  1.5 -1.5]\n[-1.5  1.5 -1.5]\n[2.5 3.5 4.5]\n[ 0.66666667 -1.66666667]\n[ 1. -4.]\n[2.05480467 4.78423336]\nFloor: [-2. -2. -1.  0.  1.  1.  3.]\nCeiling: [-1. -1. -0.  1.  2.  2.  3.]\nTruncated: [-1. -1. -0.  0.  1.  1.  3.]\nRound: [-2. -2. -0.  0.  2.  2.  3.]\n"
        }
      ],
      "execution_count": 11
    },
    {
      "id": "3bbee342-ad30-4380-9dc9-6094bd35c447",
      "cell_type": "markdown",
      "source": "QUESTION 3",
      "metadata": {}
    },
    {
      "id": "054c449b-a107-4cb0-84c6-d0707d10c7d7",
      "cell_type": "code",
      "source": "arr = np.array([10, 52, 62, 16, 16, 54, 453])\nprint(\"Sorted:\",np.sort(arr))\nprint(\"Indices:\",np.argsort(arr))\nprint(\"4 smallest:\",np.sort(arr)[:4])\nprint(\"5 largest:\",np.sort(arr)[-5:])",
      "metadata": {
        "trusted": true
      },
      "outputs": [
        {
          "name": "stdout",
          "output_type": "stream",
          "text": "Sorted: [ 10  16  16  52  54  62 453]\nIndices: [0 3 4 1 5 2 6]\n4 smallest: [10 16 16 52]\n5 largest: [ 16  52  54  62 453]\n"
        }
      ],
      "execution_count": 12
    },
    {
      "id": "0d5d17c1-d3c6-4809-846f-4cc6a9223bab",
      "cell_type": "code",
      "source": "array = np.array([1.0, 1.2, 2.2, 2.0, 3.0, 2.0])\nintegers = array[array == array.astype(int)]\nprint(\"Integer elements:\", integers)\nfloats = array[array != array.astype(int)]\nprint(\"Float elements:\", floats)",
      "metadata": {
        "trusted": true
      },
      "outputs": [
        {
          "name": "stdout",
          "output_type": "stream",
          "text": "Integer elements: [1. 2. 3. 2.]\nFloat elements: [1.2 2.2]\n"
        }
      ],
      "execution_count": 13
    },
    {
      "id": "6333edd1-558f-4148-9ff8-4fa35f56282d",
      "cell_type": "code",
      "source": "",
      "metadata": {
        "trusted": true
      },
      "outputs": [],
      "execution_count": null
    }
  ]
}